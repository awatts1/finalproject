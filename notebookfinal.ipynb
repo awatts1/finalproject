{
 "cells": [
  {
   "cell_type": "markdown",
   "id": "268026c4",
   "metadata": {},
   "source": [
    "Capstone Project\n",
    "Mock Business:\n",
    "1)\tName: Bikini Baristas\n",
    "2)\tScope: Local\n",
    "3)\tDescription: A local coffee shop where the Baristas wear bikinis\n",
    "4)\tNumber of Locations: 2\n",
    "5)\tNumber of Employees: 15\n",
    "Model a Business Process:\n",
    "1)\t(Customer) A customer walks up to the …\n",
    "2)\t(Store) coffee shop …\n",
    "3)\t(Employee) asks the barista to purchase a …\n",
    "4)\t(Inventory) coffee/latte/tea The Barista tells the customer the amount\n",
    "5)\t(Transaction) and the customer gives the Barista a form of payment.\n",
    "\n"
   ]
  },
  {
   "cell_type": "markdown",
   "id": "c79a0f75",
   "metadata": {},
   "source": [
    "Logical Data Model\n",
    "1) Create an entity that represents each person, place, thing, or concept (Master Data) and the interaction between them that describes the business process (Transactional Data): Toad table\n",
    "https://finalnotebook.notebook.us-west-2.sagemaker.aws/lab/tree/2022-08-03%20(1).png"
   ]
  },
  {
   "cell_type": "markdown",
   "id": "ce55fee5",
   "metadata": {},
   "source": [
    "Promote the Logical Data Model to a Physical Data Model:\n",
    "https://finalnotebook.notebook.us-west-2.sagemaker.aws/lab/tree/physdatamodel.png\n",
    "    "
   ]
  },
  {
   "cell_type": "markdown",
   "id": "1087addb",
   "metadata": {},
   "source": [
    "Get or Generate Data to Populate Your RDS Database: I used mockaroo to genereate my data\n",
    "https://finalnotebook.notebook.us-west-2.sagemaker.aws/lab/tree/Employee.csv\n",
    "https://finalnotebook.notebook.us-west-2.sagemaker.aws/lab/tree/Transactions.csv\n",
    "https://finalnotebook.notebook.us-west-2.sagemaker.aws/lab/tree/Inventory.csv\n",
    "https://finalnotebook.notebook.us-west-2.sagemaker.aws/lab/tree/Customers.csv\n"
   ]
  },
  {
   "cell_type": "markdown",
   "id": "5f7ccdc5",
   "metadata": {},
   "source": [
    "Ingest data from your RDS database to S3:\n",
    "https://finalnotebook.notebook.us-west-2.sagemaker.aws/lab/tree/2022-08-12%20(1).png"
   ]
  },
  {
   "cell_type": "markdown",
   "id": "fe736a6a",
   "metadata": {},
   "source": [
    "Create an AWS Glue Crawler for each table (i.e., S3 path):\n",
    "https://finalnotebook.notebook.us-west-2.sagemaker.aws/lab/tree/2022-08-12%20(7).png\n",
    "https://finalnotebook.notebook.us-west-2.sagemaker.aws/lab/tree/2022-08-12%20(6).png\n",
    "https://finalnotebook.notebook.us-west-2.sagemaker.aws/lab/tree/2022-08-12%20(5).png\n",
    "https://finalnotebook.notebook.us-west-2.sagemaker.aws/lab/tree/2022-08-12%20(4).png\n",
    "https://finalnotebook.notebook.us-west-2.sagemaker.aws/lab/tree/2022-08-12%20(3).png"
   ]
  },
  {
   "cell_type": "markdown",
   "id": "c15a7b14",
   "metadata": {},
   "source": [
    "Create a Redshift Cluster and connect it to Lake Formation and the external Transactions Table:\n",
    "    https://finalnotebook.notebook.us-west-2.sagemaker.aws/lab/tree/2022-08-04%20(1).png\n",
    "    https://finalnotebook.notebook.us-west-2.sagemaker.aws/lab/tree/2022-08-04%20(2).png\n",
    "    https://finalnotebook.notebook.us-west-2.sagemaker.aws/lab/tree/2022-08-04.png"
   ]
  },
  {
   "cell_type": "code",
   "execution_count": null,
   "id": "3bd6e358",
   "metadata": {},
   "outputs": [],
   "source": []
  }
 ],
 "metadata": {
  "kernelspec": {
   "display_name": "conda_python3",
   "language": "python",
   "name": "conda_python3"
  },
  "language_info": {
   "codemirror_mode": {
    "name": "ipython",
    "version": 3
   },
   "file_extension": ".py",
   "mimetype": "text/x-python",
   "name": "python",
   "nbconvert_exporter": "python",
   "pygments_lexer": "ipython3",
   "version": "3.8.12"
  }
 },
 "nbformat": 4,
 "nbformat_minor": 5
}
